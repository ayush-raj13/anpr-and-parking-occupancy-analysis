{
 "cells": [
  {
   "cell_type": "code",
   "execution_count": 22,
   "id": "80267c57-928a-474e-b787-3b1fdafee2a6",
   "metadata": {},
   "outputs": [],
   "source": [
    "import pandas as pd\n",
    "import matplotlib.pyplot as plt\n",
    "import numpy as np"
   ]
  },
  {
   "cell_type": "code",
   "execution_count": 23,
   "id": "3fc73b9f-30cd-4155-9334-5116ffb12792",
   "metadata": {},
   "outputs": [],
   "source": [
    "file_name = \"parkingData.csv\"\n",
    "dataFrame = pd.read_csv(file_name)"
   ]
  },
  {
   "cell_type": "code",
   "execution_count": 24,
   "id": "8055dfff-040b-4098-9b01-35f6be841930",
   "metadata": {},
   "outputs": [],
   "source": [
    "dataFrame['Time Stamp'] = pd.to_datetime(dataFrame['Time Stamp'])"
   ]
  },
  {
   "cell_type": "code",
   "execution_count": 25,
   "id": "0b9cb6c8-ee36-4c89-bdbd-a8d893b94756",
   "metadata": {},
   "outputs": [],
   "source": [
    "dataFrame.set_index('Time Stamp', inplace=True)"
   ]
  },
  {
   "cell_type": "code",
   "execution_count": 26,
   "id": "089059a1-1b3b-4d04-8246-8fa2c77a6b09",
   "metadata": {},
   "outputs": [],
   "source": [
    "resampled_dataFreame = dataFrame.resample('10S' ).mean()"
   ]
  },
  {
   "cell_type": "code",
   "execution_count": 27,
   "id": "57be94e7-79b8-42b5-a46a-2904ec805a3d",
   "metadata": {},
   "outputs": [
    {
     "name": "stdout",
     "output_type": "stream",
     "text": [
      "                     Number of cars\n",
      "Time Stamp                         \n",
      "2024-07-03 22:40:00             0.0\n",
      "2024-07-03 22:40:10             0.0\n",
      "2024-07-03 22:40:20             0.0\n",
      "2024-07-03 22:40:30             0.0\n",
      "2024-07-03 22:40:40             0.0\n",
      "2024-07-03 22:40:50             0.0\n",
      "2024-07-03 22:41:00             0.0\n",
      "2024-07-03 22:41:10             0.0\n",
      "2024-07-03 22:41:20             0.0\n",
      "2024-07-03 22:41:30             0.0\n",
      "2024-07-03 22:41:40             0.0\n",
      "2024-07-03 22:41:50             0.0\n",
      "2024-07-03 22:42:00             0.0\n",
      "2024-07-03 22:42:10             0.0\n",
      "2024-07-03 22:42:20             0.0\n",
      "2024-07-03 22:42:30             0.0\n",
      "2024-07-03 22:42:40             0.0\n",
      "2024-07-03 22:42:50             0.0\n",
      "2024-07-03 22:43:00             0.0\n",
      "2024-07-03 22:43:10             0.0\n",
      "2024-07-03 22:43:20             0.0\n",
      "2024-07-03 22:43:30             0.0\n",
      "2024-07-03 22:43:40             0.0\n",
      "2024-07-03 22:43:50             0.0\n",
      "2024-07-03 22:44:00             0.0\n",
      "2024-07-03 22:44:10             0.0\n",
      "2024-07-03 22:44:20             0.0\n",
      "2024-07-03 22:44:30             0.0\n",
      "2024-07-03 22:44:40             0.0\n",
      "2024-07-03 22:44:50             0.0\n",
      "2024-07-03 22:45:00             1.0\n",
      "2024-07-03 22:45:10             2.0\n",
      "2024-07-03 22:45:20             4.0\n",
      "2024-07-03 22:45:30             5.0\n",
      "2024-07-03 22:45:40             5.0\n",
      "2024-07-03 22:45:50             6.0\n",
      "2024-07-03 22:46:00             6.0\n",
      "2024-07-03 22:46:10             6.0\n",
      "2024-07-03 22:46:20             6.0\n",
      "2024-07-03 22:46:30             6.0\n",
      "2024-07-03 22:46:40             6.0\n",
      "2024-07-03 22:46:50             5.5\n",
      "2024-07-03 22:47:00             5.0\n",
      "2024-07-03 22:47:10             4.5\n",
      "2024-07-03 22:47:20             4.0\n",
      "2024-07-03 22:47:30             4.0\n",
      "2024-07-03 22:47:40             4.0\n",
      "2024-07-03 22:47:50             0.0\n",
      "2024-07-03 22:48:00             0.5\n",
      "2024-07-03 22:48:10             1.0\n",
      "2024-07-03 22:48:20             3.0\n",
      "2024-07-03 22:48:30             3.0\n",
      "2024-07-03 22:48:40             4.0\n",
      "2024-07-03 22:48:50             5.0\n",
      "2024-07-03 22:49:00             5.0\n",
      "2024-07-03 22:49:10             3.5\n"
     ]
    }
   ],
   "source": [
    "print(resampled_dataFreame)"
   ]
  },
  {
   "cell_type": "code",
   "execution_count": 28,
   "id": "f5a607fa-75c3-4fe9-9e31-c3f511636b86",
   "metadata": {},
   "outputs": [],
   "source": [
    "resampled_dataFreame.replace(0, np.nan, inplace=True)"
   ]
  },
  {
   "cell_type": "code",
   "execution_count": 29,
   "id": "a38c3fc5-1b1c-4acd-885f-25e18a2c02ca",
   "metadata": {},
   "outputs": [
    {
     "name": "stdout",
     "output_type": "stream",
     "text": [
      "                     Number of cars\n",
      "Time Stamp                         \n",
      "2024-07-03 22:40:00             NaN\n",
      "2024-07-03 22:40:10             NaN\n",
      "2024-07-03 22:40:20             NaN\n",
      "2024-07-03 22:40:30             NaN\n",
      "2024-07-03 22:40:40             NaN\n",
      "2024-07-03 22:40:50             NaN\n",
      "2024-07-03 22:41:00             NaN\n",
      "2024-07-03 22:41:10             NaN\n",
      "2024-07-03 22:41:20             NaN\n",
      "2024-07-03 22:41:30             NaN\n",
      "2024-07-03 22:41:40             NaN\n",
      "2024-07-03 22:41:50             NaN\n",
      "2024-07-03 22:42:00             NaN\n",
      "2024-07-03 22:42:10             NaN\n",
      "2024-07-03 22:42:20             NaN\n",
      "2024-07-03 22:42:30             NaN\n",
      "2024-07-03 22:42:40             NaN\n",
      "2024-07-03 22:42:50             NaN\n",
      "2024-07-03 22:43:00             NaN\n",
      "2024-07-03 22:43:10             NaN\n",
      "2024-07-03 22:43:20             NaN\n",
      "2024-07-03 22:43:30             NaN\n",
      "2024-07-03 22:43:40             NaN\n",
      "2024-07-03 22:43:50             NaN\n",
      "2024-07-03 22:44:00             NaN\n",
      "2024-07-03 22:44:10             NaN\n",
      "2024-07-03 22:44:20             NaN\n",
      "2024-07-03 22:44:30             NaN\n",
      "2024-07-03 22:44:40             NaN\n",
      "2024-07-03 22:44:50             NaN\n",
      "2024-07-03 22:45:00             1.0\n",
      "2024-07-03 22:45:10             2.0\n",
      "2024-07-03 22:45:20             4.0\n",
      "2024-07-03 22:45:30             5.0\n",
      "2024-07-03 22:45:40             5.0\n",
      "2024-07-03 22:45:50             6.0\n",
      "2024-07-03 22:46:00             6.0\n",
      "2024-07-03 22:46:10             6.0\n",
      "2024-07-03 22:46:20             6.0\n",
      "2024-07-03 22:46:30             6.0\n",
      "2024-07-03 22:46:40             6.0\n",
      "2024-07-03 22:46:50             5.5\n",
      "2024-07-03 22:47:00             5.0\n",
      "2024-07-03 22:47:10             4.5\n",
      "2024-07-03 22:47:20             4.0\n",
      "2024-07-03 22:47:30             4.0\n",
      "2024-07-03 22:47:40             4.0\n",
      "2024-07-03 22:47:50             NaN\n",
      "2024-07-03 22:48:00             0.5\n",
      "2024-07-03 22:48:10             1.0\n",
      "2024-07-03 22:48:20             3.0\n",
      "2024-07-03 22:48:30             3.0\n",
      "2024-07-03 22:48:40             4.0\n",
      "2024-07-03 22:48:50             5.0\n",
      "2024-07-03 22:49:00             5.0\n",
      "2024-07-03 22:49:10             3.5\n"
     ]
    }
   ],
   "source": [
    "print(resampled_dataFreame)"
   ]
  },
  {
   "cell_type": "code",
   "execution_count": 30,
   "id": "7256a80c-855c-4d44-87d4-eba39a11d605",
   "metadata": {},
   "outputs": [],
   "source": [
    "mean_cars = resampled_dataFreame['Number of cars'].mean(skipna=True)\n",
    "std_cars = resampled_dataFreame['Number of cars'].std(skipna=True)"
   ]
  },
  {
   "cell_type": "code",
   "execution_count": 31,
   "id": "5257e111-d5b4-41ee-a68e-8638b4a67de0",
   "metadata": {},
   "outputs": [
    {
     "name": "stdout",
     "output_type": "stream",
     "text": [
      "Peak Hours:\n",
      "                      Number of cars\n",
      "Time Stamp                         \n",
      "2024-07-03 22:45:50             6.0\n",
      "2024-07-03 22:46:00             6.0\n",
      "2024-07-03 22:46:10             6.0\n",
      "2024-07-03 22:46:20             6.0\n",
      "2024-07-03 22:46:30             6.0\n",
      "2024-07-03 22:46:40             6.0\n",
      "Minimum Hours:\n",
      "                      Number of cars\n",
      "Time Stamp                         \n",
      "2024-07-03 22:45:00             1.0\n",
      "2024-07-03 22:45:10             2.0\n",
      "2024-07-03 22:48:00             0.5\n",
      "2024-07-03 22:48:10             1.0\n"
     ]
    }
   ],
   "source": [
    "threshold = 1  # Adjust this value to change sensitivity\n",
    "\n",
    "peak_hours = resampled_dataFreame[resampled_dataFreame['Number of cars'] > (mean_cars + threshold * std_cars)]\n",
    "min_hours = resampled_dataFreame[resampled_dataFreame['Number of cars'] < (mean_cars - threshold * std_cars)]\n",
    "\n",
    "print(\"Peak Hours:\\n\", peak_hours)\n",
    "print(\"Minimum Hours:\\n\", min_hours)"
   ]
  },
  {
   "cell_type": "code",
   "execution_count": 33,
   "id": "e341fbdd-6330-4c5f-b3bf-196e715de989",
   "metadata": {},
   "outputs": [
    {
     "name": "stdout",
     "output_type": "stream",
     "text": [
      "Index(['Number of cars'], dtype='object')\n",
      "Index(['Number of cars'], dtype='object')\n",
      "Index(['Number of cars'], dtype='object')\n"
     ]
    }
   ],
   "source": [
    "print(resampled_dataFreame.columns)\n",
    "print(peak_hours.columns)\n",
    "print(min_hours.columns)"
   ]
  },
  {
   "cell_type": "code",
   "execution_count": 35,
   "id": "d5c22f39-71e6-4c83-970a-7ebf4c37eca4",
   "metadata": {},
   "outputs": [
    {
     "data": {
      "image/png": "[encoded data removed]",
      "text/plain": [
       "<Figure size 1200x600 with 1 Axes>"
      ]
     },
     "metadata": {},
     "output_type": "display_data"
    }
   ],
   "source": [
    "number_of_cars_column = 'Number of cars'\n",
    "peak_hours_column = 'Number of cars'\n",
    "min_hours_column = 'Number of cars'\n",
    "\n",
    "# Plotting\n",
    "plt.figure(figsize=(12, 6))\n",
    "plt.plot(resampled_dataFreame.index, resampled_dataFreame[number_of_cars_column], marker='o', label=number_of_cars_column)\n",
    "plt.scatter(peak_hours.index, peak_hours[peak_hours_column], color='r', label='Peak Hours', zorder=5)\n",
    "plt.scatter(min_hours.index, min_hours[min_hours_column], color='g', label='Minimum Hours', zorder=5)\n",
    "plt.title('Parking Lot Occupancy Frequency with Peak and Minimum Hours')\n",
    "plt.xlabel('Time')\n",
    "plt.ylabel('Number of Cars')\n",
    "plt.legend()\n",
    "plt.grid(True)\n",
    "plt.show()"
   ]
  },
  {
   "cell_type": "code",
   "execution_count": null,
   "id": "ec0e33c8-fe96-403e-80d6-7fb3e3336f45",
   "metadata": {},
   "outputs": [],
   "source": []
  }
 ],
 "metadata": {
  "kernelspec": {
   "display_name": "Python 3 (ipykernel)",
   "language": "python",
   "name": "python3"
  },
  "language_info": {
   "codemirror_mode": {
    "name": "ipython",
    "version": 3
   },
   "file_extension": ".py",
   "mimetype": "text/x-python",
   "name": "python",
   "nbconvert_exporter": "python",
   "pygments_lexer": "ipython3",
   "version": "3.11.7"
  }
 },
 "nbformat": 4,
 "nbformat_minor": 5
}
